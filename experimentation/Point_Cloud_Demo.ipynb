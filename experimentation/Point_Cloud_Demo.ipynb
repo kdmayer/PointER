{
 "cells": [
  {
   "cell_type": "markdown",
   "id": "38578e35",
   "metadata": {},
   "source": [
    "### Helpful links:\n",
    "\n",
    "### Point Cloud Processing:\n",
    "\n",
    "- https://github.com/szenergy/awesome-lidar\n",
    "- https://github.com/PointCloudLibrary/pcl\n",
    "- https://github.com/daavoo/pyntcloud\n",
    "- https://github.com/isl-org/Open3D\n",
    "- https://pdal.io/stages/filters.html\n",
    "- https://www.danielgm.net/cc/\n",
    "\n",
    "### Visualization:\n",
    "\n",
    "- https://deck.gl/\n",
    "- https://kepler.gl/\n",
    "- https://plas.io/"
   ]
  },
  {
   "cell_type": "markdown",
   "id": "1160d934",
   "metadata": {},
   "source": [
    "## To Do:\n",
    "1. Select only building footprint polygons which are relevant for the respective LiDAR tile.\n",
    "2. Only save filtered .las files if they contain more than TBD points.\n",
    "3. Come up with a meaningful name for .las files."
   ]
  },
  {
   "cell_type": "code",
   "execution_count": null,
   "id": "03b48861",
   "metadata": {},
   "outputs": [],
   "source": [
    "import geopandas as gpd\n",
    "import numpy as np\n",
    "import os\n",
    "import pdal\n",
    "import shapely\n",
    "import json\n",
    "import laspy\n",
    "import random"
   ]
  },
  {
   "cell_type": "code",
   "execution_count": null,
   "id": "52af999e",
   "metadata": {},
   "outputs": [],
   "source": [
    "%cd ..\n",
    "%cd assets\n",
    "assert os.getcwd() == '/Users/kevin/Projects/CS224W_LIDAR/assets', \"You are not in the assets DIR\""
   ]
  },
  {
   "cell_type": "code",
   "execution_count": null,
   "id": "162bc832",
   "metadata": {},
   "outputs": [],
   "source": [
    "las = laspy.read('SP3278_P_11321_20171123_20171123.las')\n",
    "hdr = las.header\n",
    "hdr.point_count=0\n",
    "\n",
    "# Convert LAS to numpy array (X=raw integer value x=scaled float value)\n",
    "lidar_points = np.array((las.x,las.y,las.z,las.intensity, las.raw_classification,las.scan_angle_rank)).transpose()\n",
    "\n",
    "print(f\"SHAPE of LIDAR: {lidar_points.shape}\")\n",
    "\n",
    "# numpy.random.Generator.choice\n",
    "rng = np.random.default_rng()\n",
    "\n",
    "# Subsample lidar point cloud\n",
    "lidar_subset = rng.choice(a=lidar_points, size=1000000, replace=False, axis=0)\n",
    "\n",
    "print(f\"SHAPE of LIDAR_SUBSET: {lidar_subset.shape}\")\n",
    "\n",
    "# Save subset to file\n",
    "outfile = laspy.LasData(hdr)\n",
    "outfile.x = lidar_subset[:,0]\n",
    "outfile.y = lidar_subset[:,1]\n",
    "outfile.z = lidar_subset[:,2]\n",
    "outfile.intensity = lidar_subset[:,3]\n",
    "outfile.raw_classification = lidar_subset[:,4]\n",
    "outfile.scan_angle_rank = lidar_subset[:,5]\n",
    "\n",
    "outfile.write(\"Subset_SP3278_P_11321_20171123_20171123.las\")"
   ]
  },
  {
   "cell_type": "code",
   "execution_count": null,
   "id": "046c5427",
   "metadata": {},
   "outputs": [],
   "source": [
    "test_las = laspy.read('Subset_SP3278_P_11321_20171123_20171123.las')\n",
    "test_points = np.array((test_las.x,test_las.y,test_las.z,test_las.intensity,test_las.raw_classification,test_las.scan_angle_rank)).transpose()\n",
    "test_points.shape"
   ]
  },
  {
   "cell_type": "code",
   "execution_count": null,
   "id": "3422b7df",
   "metadata": {},
   "outputs": [],
   "source": [
    "osm_footprints = gpd.read_file(\"coventry_building_footprints.geojson\")\n",
    "# Reproject OSM footprints to EPSG:27700\n",
    "#osm_footprints = osm_footprints.to_crs(\"EPSG:27700\")\n",
    "#osm_footprints.to_file(\"coventry_building_footprints.geojson\", driver='GeoJSON')\n",
    "footprint_list = osm_footprints['geometry'].tolist()\n",
    "# Filter out only Polygons and save them with their WKT string\n",
    "polys = [elem.wkt for elem in footprint_list if isinstance(elem, shapely.geometry.polygon.Polygon)]\n",
    "polys = random.sample(polys, 200)"
   ]
  },
  {
   "cell_type": "code",
   "execution_count": null,
   "id": "b29dde0c",
   "metadata": {},
   "outputs": [],
   "source": [
    "for idx, polygon in enumerate(polys):\n",
    "    \n",
    "    pipeline_definition = {\n",
    "\n",
    "        'pipeline': [\n",
    "\n",
    "        \"Subset_SP3278_P_11321_20171123_20171123.las\",\n",
    "\n",
    "        {\n",
    "            \"type\":\"filters.crop\",\n",
    "            \"polygon\":polygon\n",
    "        },\n",
    "\n",
    "        {\n",
    "            \"type\":\"writers.las\",\n",
    "            \"filename\":f\"cropped_{idx}.las\"\n",
    "        }\n",
    "\n",
    "        ]\n",
    "    }\n",
    "\n",
    "    pipeline = pdal.Pipeline(json.dumps(pipeline_definition))\n",
    "\n",
    "    pipeline.execute()"
   ]
  },
  {
   "cell_type": "code",
   "execution_count": null,
   "id": "34e0c856",
   "metadata": {},
   "outputs": [],
   "source": [
    "for idx, polygon in enumerate(polys):\n",
    "\n",
    "    pdal_output = laspy.read(f'cropped_{idx}.las')\n",
    "    print(f'cropped_{idx}.las')\n",
    "    print(pdal_output)\n",
    "    print(\"***\")"
   ]
  },
  {
   "cell_type": "code",
   "execution_count": null,
   "id": "1942356e",
   "metadata": {},
   "outputs": [],
   "source": []
  }
 ],
 "metadata": {
  "kernelspec": {
   "display_name": "Python 3 (ipykernel)",
   "language": "python",
   "name": "python3"
  },
  "language_info": {
   "codemirror_mode": {
    "name": "ipython",
    "version": 3
   },
   "file_extension": ".py",
   "mimetype": "text/x-python",
   "name": "python",
   "nbconvert_exporter": "python",
   "pygments_lexer": "ipython3",
   "version": "3.9.13"
  }
 },
 "nbformat": 4,
 "nbformat_minor": 5
}
