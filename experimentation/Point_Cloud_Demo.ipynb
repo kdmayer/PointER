{
 "cells": [
  {
   "cell_type": "markdown",
   "id": "38578e35",
   "metadata": {},
   "source": [
    "### Helpful links:\n",
    "\n",
    "- https://github.com/szenergy/awesome-lidar\n",
    "- https://github.com/PointCloudLibrary/pcl\n",
    "- https://github.com/daavoo/pyntcloud\n",
    "- https://github.com/isl-org/Open3D\n"
   ]
  },
  {
   "cell_type": "code",
   "execution_count": null,
   "id": "6f8fdd25",
   "metadata": {},
   "outputs": [],
   "source": []
  }
 ],
 "metadata": {
  "kernelspec": {
   "display_name": "Python 3 (ipykernel)",
   "language": "python",
   "name": "python3"
  },
  "language_info": {
   "codemirror_mode": {
    "name": "ipython",
    "version": 3
   },
   "file_extension": ".py",
   "mimetype": "text/x-python",
   "name": "python",
   "nbconvert_exporter": "python",
   "pygments_lexer": "ipython3",
   "version": "3.7.13"
  }
 },
 "nbformat": 4,
 "nbformat_minor": 5
}
