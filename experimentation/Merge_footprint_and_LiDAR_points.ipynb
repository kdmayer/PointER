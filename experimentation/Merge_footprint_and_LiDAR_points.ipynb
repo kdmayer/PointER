{
 "cells": [
  {
   "cell_type": "code",
   "execution_count": null,
   "id": "e678ae86",
   "metadata": {},
   "outputs": [],
   "source": [
    "from shapely.geometry import box, Point, MultiPoint, Polygon\n",
    "from typing import List\n",
    "from tqdm import tqdm\n",
    "\n",
    "import plotly.graph_objects as go\n",
    "import geopandas as gpd\n",
    "import pandas as pd\n",
    "import numpy as np\n",
    "\n",
    "import os\n",
    "import pdal\n",
    "import shapely\n",
    "import json\n",
    "import laspy\n",
    "import random"
   ]
  },
  {
   "cell_type": "code",
   "execution_count": null,
   "id": "0ff0e0cc",
   "metadata": {},
   "outputs": [],
   "source": [
    "%cd ..\n",
    "%cd assets\n",
    "assert os.getcwd().split(\"/\")[-1] == 'assets', \"You are not in the assets directory\""
   ]
  },
  {
   "cell_type": "code",
   "execution_count": null,
   "id": "0ce3e46b",
   "metadata": {},
   "outputs": [],
   "source": [
    "def visualize_3d_array(point_cloud_array: np.ndarray=None, file_name_list: List=None, example_ID=None):\n",
    "    \n",
    "    x = point_cloud_array[example_ID, :, 0].flatten()\n",
    "    y = point_cloud_array[example_ID, :, 1].flatten()\n",
    "    z = point_cloud_array[example_ID, :, 2].flatten()\n",
    "\n",
    "    scatter = go.Scatter3d(x=x, y=y, z=z, mode='markers', \n",
    "                         marker=dict(size = 3, color = z, colorscale = 'Viridis'))\n",
    "    layout = go.Layout(title = f'Visualization of {file_name_list[example_ID]}')\n",
    "    fig = go.Figure(data = [scatter], layout = layout)\n",
    "    fig.show()\n",
    "\n",
    "def _convert_numpy_to_las(x: np.ndarray=None, header=None):\n",
    "    \n",
    "    outfile = laspy.LasData(header)\n",
    "    outfile.x = x[:,0]\n",
    "    outfile.y = x[:,1]\n",
    "    outfile.z = x[:,2]\n",
    "    outfile.intensity = x[:,3]\n",
    "    outfile.raw_classification = x[:,4]\n",
    "    outfile.scan_angle_rank = x[:,5]\n",
    "    \n",
    "    return outfile\n",
    "\n",
    "def _sample_random_points(x: np.ndarray=None, random_sample_size: int=None):\n",
    "    \n",
    "    rng = np.random.default_rng()\n",
    "    lidar_subset = rng.choice(a=x, size=random_sample_size, replace=False, axis=0)\n",
    "    \n",
    "    return lidar_subset\n",
    "\n",
    "def _convert_las_to_numpy(las_data = None):\n",
    "    \n",
    "    lidar_numpy = np.array((las_data.x, \n",
    "                             las_data.y, \n",
    "                             las_data.z, \n",
    "                             las_data.intensity, \n",
    "                             las_data.raw_classification, \n",
    "                             las_data.scan_angle_rank)).transpose()\n",
    "    \n",
    "    return lidar_numpy\n",
    "        \n",
    "def subsample_las(original_las_data_filepath: str=None, random_sample_size: int=1000000):\n",
    "\n",
    "    org_las_data = laspy.read(original_las_data_filepath)\n",
    "    # Set meta data for new LAS file based on settings from original LAS file\n",
    "    hdr = org_las_data.header\n",
    "    hdr.point_count = 0\n",
    "    \n",
    "    lidar_ndarray = _convert_las_to_numpy(las_data = org_las_data)\n",
    "    print(f\"SHAPE of LIDAR: {lidar_ndarray.shape}\")\n",
    "    \n",
    "    lidar_subset = _sample_random_points(x=lidar_ndarray, random_sample_size=random_sample_size)\n",
    "    print(f\"SHAPE of LIDAR_SUBSET: {lidar_subset.shape}\")\n",
    "    \n",
    "    outfile = _convert_numpy_to_las(lidar_subset, hdr)\n",
    "    output_filepath = original_las_data_filepath[:-4] + \"_SUBSET.las\"\n",
    "    \n",
    "    print(f\"Saving subsampled LAS file to: {output_filepath}\")\n",
    "    outfile.write(output_filepath)\n",
    "    \n",
    "    return outfile\n",
    "\n",
    "def create_tile_bounding_box(original_las_data_filepath: str=None):\n",
    "    \n",
    "    las_data = laspy.read(original_las_data_filepath)\n",
    "    min_x, min_y, min_z, max_x, max_y, max_z = [*las_data.header.min, *las_data.header.max]\n",
    "    return box(minx=min_x, miny=min_y, maxx=max_x, maxy=max_y)"
   ]
  },
  {
   "cell_type": "code",
   "execution_count": null,
   "id": "ad919b8c",
   "metadata": {},
   "outputs": [],
   "source": [
    "def transform_ndarray_to_gpd_dataframe(numpy_point_cloud: np.ndarray=None, target_crs: int=None):\n",
    "    \n",
    "    if numpy_point_cloud.ndim == 3:\n",
    "        numpy_point_cloud = np.squeeze(numpy_point_cloud)\n",
    "        \n",
    "    pandas_point_cloud = pd.DataFrame(numpy_point_cloud)\n",
    "    \n",
    "    geometry_3D = [shapely.geometry.Point(xyz) for xyz in zip(pandas_point_cloud[0], pandas_point_cloud[1], pandas_point_cloud[2])]\n",
    "    # CRS in m for UK\n",
    "    geopandas_point_cloud = gpd.GeoDataFrame(geometry_3D, crs=27700, geometry=geometry_3D) \n",
    "    geopandas_point_cloud = geopandas_point_cloud.drop(columns=[0])\n",
    "    geopandas_point_cloud = geopandas_point_cloud.to_crs(target_crs)\n",
    "    \n",
    "    return geopandas_point_cloud\n",
    "\n",
    "def transform_gpd_dataframe_to_multipoint(geopandas_point_cloud: gpd.GeoDataFrame=None):\n",
    "    \n",
    "    coord_list = [(point.x, point.y, point.z) for point in geopandas_point_cloud.geometry.tolist()]\n",
    "    \n",
    "    multipoint = MultiPoint(coord_list)\n",
    "    \n",
    "    return multipoint\n",
    "\n",
    "def find_min_z_value(numpy_point_cloud: np.ndarray=None):\n",
    "    \n",
    "    z_values = numpy_point_cloud[:,2]\n",
    "    min_z = np.min(z_values)\n",
    "\n",
    "    return min_z"
   ]
  },
  {
   "cell_type": "code",
   "execution_count": null,
   "id": "b1db25e6",
   "metadata": {},
   "outputs": [],
   "source": [
    "# Load building footprints\n",
    "osm_footprints = gpd.read_file(\"coventry_building_footprints.geojson\")\n",
    "osm_footprints"
   ]
  },
  {
   "cell_type": "code",
   "execution_count": null,
   "id": "b3f468c9",
   "metadata": {},
   "outputs": [],
   "source": [
    "# Load LiDAR point cloud\n",
    "file_path = \"/Users/kevin/Projects/CS224W_LIDAR/assets/cropped_16.las\"\n",
    "las_point_cloud = laspy.read(file_path)\n",
    "numpy_point_cloud = _convert_las_to_numpy(las_point_cloud)\n",
    "min_z = find_min_z_value(numpy_point_cloud)\n",
    "numpy_point_cloud = numpy_point_cloud[np.newaxis, ...]\n",
    "print(f\"numpy_point_cloud shape: {numpy_point_cloud.shape}\")\n",
    "# Visualize building point cloud\n",
    "visualize_3d_array(point_cloud_array=numpy_point_cloud, file_name_list=[file_path], example_ID=0)"
   ]
  },
  {
   "cell_type": "code",
   "execution_count": null,
   "id": "54ef9792",
   "metadata": {},
   "outputs": [],
   "source": [
    "# Convert numpy point cloud to geopandas point cloud\n",
    "geopandas_point_cloud = transform_ndarray_to_gpd_dataframe(numpy_point_cloud=numpy_point_cloud, target_crs=27700)\n",
    "\n",
    "# Group building-level points into MultiPoint object\n",
    "lidar_multipoint = transform_gpd_dataframe_to_multipoint(geopandas_point_cloud)"
   ]
  },
  {
   "cell_type": "code",
   "execution_count": null,
   "id": "2877faa2",
   "metadata": {},
   "outputs": [],
   "source": [
    "# Find respective footprint for LiDAR point cloud\n",
    "building_footprint = None\n",
    "\n",
    "for elem in osm_footprints.geometry:\n",
    "    \n",
    "    if isinstance(elem, shapely.geometry.Polygon):\n",
    "        \n",
    "        if elem.contains(geopandas_point_cloud.loc[1000,'geometry']):\n",
    "        \n",
    "            building_footprint = elem\n",
    "            \n",
    "building_footprint"
   ]
  },
  {
   "cell_type": "code",
   "execution_count": null,
   "id": "abbcb248",
   "metadata": {},
   "outputs": [],
   "source": [
    "# Grid spacing in meters\n",
    "resolution = 0.5\n",
    "\n",
    "lonmin, latmin, lonmax, latmax = building_footprint.bounds\n",
    "\n",
    "# construct rectangle of points\n",
    "x, y = np.round(np.meshgrid(np.arange(lonmin, lonmax, resolution), np.arange(latmin, latmax, resolution)), 4)\n",
    "points = list(zip(x.flatten(),y.flatten()))\n",
    "\n",
    "# validate each point falls inside shapes and add minimum z-vale of lidar point cloud as floor level\n",
    "valid_points = [(point[0], point[1], min_z) for point in points if building_footprint.contains(shapely.geometry.Point(point))]"
   ]
  },
  {
   "cell_type": "code",
   "execution_count": null,
   "id": "da3089b9",
   "metadata": {},
   "outputs": [],
   "source": [
    "footprint_multipoint = shapely.geometry.MultiPoint(valid_points)\n",
    "\n",
    "footprint_multipoint"
   ]
  },
  {
   "cell_type": "code",
   "execution_count": null,
   "id": "17117248",
   "metadata": {},
   "outputs": [],
   "source": [
    "from shapely.ops import unary_union\n",
    "\n",
    "new_multipoint = unary_union([lidar_multipoint, footprint_multipoint])\n",
    "\n",
    "new_multipoint"
   ]
  },
  {
   "cell_type": "code",
   "execution_count": null,
   "id": "af19ef59",
   "metadata": {},
   "outputs": [],
   "source": [
    "new_numpy_point_cloud = np.array([(point.x, point.y, point.z) for point in list(new_multipoint)])\n",
    "new_numpy_point_cloud.shape"
   ]
  },
  {
   "cell_type": "code",
   "execution_count": null,
   "id": "6a53c535",
   "metadata": {},
   "outputs": [],
   "source": [
    "new_numpy_point_cloud = new_numpy_point_cloud[np.newaxis, ...]\n",
    "# Visualize building point cloud\n",
    "visualize_3d_array(point_cloud_array=new_numpy_point_cloud, file_name_list=[file_path], example_ID=0)"
   ]
  }
 ],
 "metadata": {
  "kernelspec": {
   "display_name": "Python 3 (ipykernel)",
   "language": "python",
   "name": "python3"
  },
  "language_info": {
   "codemirror_mode": {
    "name": "ipython",
    "version": 3
   },
   "file_extension": ".py",
   "mimetype": "text/x-python",
   "name": "python",
   "nbconvert_exporter": "python",
   "pygments_lexer": "ipython3",
   "version": "3.9.13"
  }
 },
 "nbformat": 4,
 "nbformat_minor": 5
}
