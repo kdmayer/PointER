{
 "cells": [
  {
   "cell_type": "code",
   "execution_count": null,
   "id": "e678ae86",
   "metadata": {},
   "outputs": [],
   "source": [
    "import numpy as np\n",
    "import pandas as pd\n",
    "\n",
    "import os"
   ]
  },
  {
   "cell_type": "markdown",
   "id": "108c7745",
   "metadata": {},
   "source": [
    "# Incorporate code from:\n",
    "\n",
    "- https://github.com/philwilkes/ea_lidar OR\n",
    "- https://github.com/kdmayer/uk-lidar-program"
   ]
  },
  {
   "cell_type": "code",
   "execution_count": null,
   "id": "b1db25e6",
   "metadata": {},
   "outputs": [],
   "source": []
  }
 ],
 "metadata": {
  "kernelspec": {
   "display_name": "Python 3 (ipykernel)",
   "language": "python",
   "name": "python3"
  },
  "language_info": {
   "codemirror_mode": {
    "name": "ipython",
    "version": 3
   },
   "file_extension": ".py",
   "mimetype": "text/x-python",
   "name": "python",
   "nbconvert_exporter": "python",
   "pygments_lexer": "ipython3",
   "version": "3.9.13"
  }
 },
 "nbformat": 4,
 "nbformat_minor": 5
}
